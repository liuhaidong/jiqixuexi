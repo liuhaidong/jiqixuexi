{
 "cells": [
  {
   "cell_type": "code",
   "execution_count": 14,
   "metadata": {},
   "outputs": [],
   "source": [
    "from sklearn import datasets\n",
    "from collections import Counter  # 为了做投票\n",
    "from sklearn.model_selection import train_test_split\n",
    "import numpy as np\n",
    "\n",
    "# 导入iris数据\n",
    "iris = datasets.load_iris()\n",
    "X = iris.data\n",
    "y = iris.target\n",
    "X_train, X_test, y_train, y_test = train_test_split(X, y, random_state=2003)\n",
    "\n",
    "\n"
   ]
  },
  {
   "cell_type": "code",
   "execution_count": 15,
   "metadata": {},
   "outputs": [
    {
     "name": "stdout",
     "output_type": "stream",
     "text": [
      "[1 0 1 1 1 1 1 1 1 1 0 0 0 1 2 0 2 2 1 0 1 2 1 1 0 1 1 2 1 2 0 0 1 1 0 1 2\n",
      " 0]\n"
     ]
    }
   ],
   "source": [
    "X_train.shape\n",
    "#花萼长度,花萼宽度,花瓣长度,花瓣宽度\n",
    "print(y_test)"
   ]
  },
  {
   "cell_type": "code",
   "execution_count": 16,
   "metadata": {},
   "outputs": [],
   "source": [
    "def euc_dis(instance1, instance2):\n",
    "    \"\"\"\n",
    "    计算两个样本instance1和instance2之间的欧式距离\n",
    "    instance1: 第一个样本， array型\n",
    "    instance2: 第二个样本， array型\n",
    "    \"\"\"\n",
    "    # TODO\n",
    "    dist = np.sqrt(np.sum(np.square(instance1-instance2)))\n",
    "    return dist\n",
    "    \n",
    "    \n",
    "def knn_classify(X, y, testInstance, k):\n",
    "    \"\"\"\n",
    "    给定一个测试数据testInstance, 通过KNN算法来预测它的标签。 \n",
    "    X: 训练数据的特征\n",
    "    y: 训练数据的标签\n",
    "    testInstance: 测试数据，这里假定一个测试数据 array型\n",
    "    k: 选择多少个neighbors? \n",
    "    \"\"\"\n",
    "    # TODO  返回testInstance的预测标签 = {0,1,2}\n",
    "\n",
    "    d = []\n",
    "    votes = []\n",
    "    for j in range(len(X)):\n",
    "        dist = euc_dis(X[j] , testInstance)\n",
    "        d.append([dist, j])\n",
    "    d.sort()\n",
    "    d = d[0:k]\n",
    "    for d, j in d:\n",
    "        votes.append(y[j])\n",
    "    ans = Counter(votes).most_common(1)[0][0]\n",
    "    return ans"
   ]
  },
  {
   "cell_type": "code",
   "execution_count": 17,
   "metadata": {},
   "outputs": [
    {
     "name": "stdout",
     "output_type": "stream",
     "text": [
      "1\n"
     ]
    }
   ],
   "source": [
    "test_p = knn_classify(X_train, y_train, X_test[2], 3)\n",
    "print(test_p)"
   ]
  },
  {
   "cell_type": "code",
   "execution_count": 18,
   "metadata": {},
   "outputs": [
    {
     "name": "stdout",
     "output_type": "stream",
     "text": [
      "Accuracy is: 0.921\n"
     ]
    }
   ],
   "source": [
    "# 预测结果。    \n",
    "predictions = [knn_classify(X_train, y_train, data, 3) for data in X_test]\n",
    "correct = np.count_nonzero((predictions==y_test)==True)\n",
    "print (\"Accuracy is: %.3f\" %(correct/len(X_test)))"
   ]
  },
  {
   "cell_type": "code",
   "execution_count": null,
   "metadata": {},
   "outputs": [],
   "source": []
  }
 ],
 "metadata": {
  "kernelspec": {
   "display_name": "Python 3",
   "language": "python",
   "name": "python3"
  },
  "language_info": {
   "codemirror_mode": {
    "name": "ipython",
    "version": 3
   },
   "file_extension": ".py",
   "mimetype": "text/x-python",
   "name": "python",
   "nbconvert_exporter": "python",
   "pygments_lexer": "ipython3",
   "version": "3.7.2"
  }
 },
 "nbformat": 4,
 "nbformat_minor": 2
}
